{
 "cells": [
  {
   "cell_type": "markdown",
   "metadata": {},
   "source": [
    "## Makemore Part 5 \n",
    "\n",
    "Building makemore Part 5: Building a WaveNet \n",
    "https://www.youtube.com/watch?v=t3YJ5hKiMQ0&list=PLAqhIrjkxbuWI23v9cThsA9GvCAUhRvKZ&index=6"
   ]
  },
  {
   "cell_type": "code",
   "execution_count": 31,
   "metadata": {},
   "outputs": [],
   "source": [
    "# Run using python 3.8.5 kernel \n",
    "import torch \n",
    "import torch.nn.functional as F \n",
    "import matplotlib.pyplot as plt \n",
    "%matplotlib inline"
   ]
  },
  {
   "cell_type": "code",
   "execution_count": 32,
   "metadata": {},
   "outputs": [
    {
     "data": {
      "text/plain": [
       "['emma', 'olivia', 'ava', 'isabella', 'sophia', 'charlotte', 'mia', 'amelia']"
      ]
     },
     "execution_count": 32,
     "metadata": {},
     "output_type": "execute_result"
    }
   ],
   "source": [
    "words = open('names.txt', 'r').read().splitlines() \n",
    "words[:8]"
   ]
  },
  {
   "cell_type": "code",
   "execution_count": 33,
   "metadata": {},
   "outputs": [
    {
     "name": "stdout",
     "output_type": "stream",
     "text": [
      "{1: 'a', 2: 'b', 3: 'c', 4: 'd', 5: 'e', 6: 'f', 7: 'g', 8: 'h', 9: 'i', 10: 'j', 11: 'k', 12: 'l', 13: 'm', 14: 'n', 15: 'o', 16: 'p', 17: 'q', 18: 'r', 19: 's', 20: 't', 21: 'u', 22: 'v', 23: 'w', 24: 'x', 25: 'y', 26: 'z', 0: '.'}\n"
     ]
    }
   ],
   "source": [
    "# build vocab of chars and mapping to / from integers\n",
    "chars = sorted(list(set(''.join(words)))) # get all distinct chars, sorted\n",
    "stoi = {s:i+1 for i,s in enumerate(chars)}\n",
    "stoi['.'] = 0 \n",
    "itos = {i:s for s,i in stoi.items()}\n",
    "vocab_size = len(itos)\n",
    "print(itos)"
   ]
  },
  {
   "cell_type": "code",
   "execution_count": 34,
   "metadata": {},
   "outputs": [],
   "source": [
    "import random \n",
    "random.seed(42) \n",
    "random.shuffle(words) "
   ]
  },
  {
   "cell_type": "code",
   "execution_count": 35,
   "metadata": {},
   "outputs": [
    {
     "name": "stdout",
     "output_type": "stream",
     "text": [
      "torch.Size([182580, 3]) torch.Size([182580])\n",
      "torch.Size([22767, 3]) torch.Size([22767])\n",
      "torch.Size([22799, 3]) torch.Size([22799])\n"
     ]
    }
   ],
   "source": [
    "# build dataset\n",
    "block_size = 3 \n",
    "\n",
    "def build_dataset(words): \n",
    "\n",
    "    X, Y = [], [] \n",
    "\n",
    "    for w in words: \n",
    "        context = [0] * block_size \n",
    "        for ch in w + '.': \n",
    "            ix = stoi[ch]  \n",
    "            X.append(context) \n",
    "            Y.append(ix) \n",
    "            context = context[1:] + [ix] \n",
    "\n",
    "    X = torch.tensor(X) \n",
    "    Y = torch.tensor(Y) \n",
    "    print(X.shape, Y.shape)\n",
    "    return X, Y \n",
    "\n",
    "import random \n",
    "random.seed(42) \n",
    "random.shuffle(words) # mix up the words \n",
    "n1 = int(0.8*len(words)) # 80% of words \n",
    "n2 = int(0.9*len(words)) # 90% of words \n",
    "\n",
    "Xtr, Ytr = build_dataset(words[:n1]) \n",
    "Xdev, Ydev = build_dataset(words[n1:n2])\n",
    "Xte, Yte = build_dataset(words[n2:])"
   ]
  },
  {
   "cell_type": "code",
   "execution_count": 36,
   "metadata": {},
   "outputs": [
    {
     "name": "stdout",
     "output_type": "stream",
     "text": [
      "... --> e\n",
      "..e --> b\n",
      ".eb --> r\n",
      "ebr --> i\n",
      "bri --> m\n",
      "rim --> a\n",
      "ima --> .\n",
      "... --> h\n",
      "..h --> i\n",
      ".hi --> l\n",
      "hil --> t\n",
      "ilt --> o\n",
      "lto --> n\n",
      "ton --> .\n",
      "... --> j\n",
      "..j --> h\n",
      ".jh --> e\n",
      "jhe --> n\n",
      "hen --> e\n",
      "ene --> .\n"
     ]
    }
   ],
   "source": [
    "for x,y in zip(Xtr[:20], Ytr[:20]): \n",
    "    print(''.join(itos[ix.item()] for ix in x), '-->', itos[y.item()])"
   ]
  },
  {
   "cell_type": "code",
   "execution_count": 118,
   "metadata": {},
   "outputs": [],
   "source": [
    "# very similar to pytorch linear layer \n",
    "# this from part 3 \n",
    "class Linear: \n",
    "\n",
    "    def __init__(self, fan_in, fan_out, bias=True): \n",
    "        # randn is unit Gaussian at first \n",
    "        # then we use Kanming by default \n",
    "        self.weight = torch.randn((fan_in, fan_out)) / fan_in**0.5\n",
    "        self.bias = torch.zeros(fan_out) if bias else None \n",
    "\n",
    "    def __call__(self, x): \n",
    "        self.out = x @ self.weight \n",
    "        if self.bias is not None: \n",
    "            self.out += self.bias \n",
    "        return self.out \n",
    "    \n",
    "    def parameters(self): \n",
    "        return [self.weight] + ([] if self.bias is None else [self.bias])\n",
    "    \n",
    "class BatchNorm1d: \n",
    "\n",
    "    def __init__(self, dim, eps=1e-5, momentum=0.1): \n",
    "        self.eps = eps  # for avoiding division by 0 \n",
    "        self.momentum = momentum \n",
    "        self.training = True # bc we behave differently for train and inference\n",
    "        # parameters (trained with backprop) \n",
    "        self.gamma = torch.ones(dim) # like gain above \n",
    "        self.beta = torch.zeros(dim) \n",
    "        # buffers (trained with a running 'momentum update')\n",
    "        self.running_mean = torch.zeros(dim) \n",
    "        self.running_var = torch.ones(dim) \n",
    "\n",
    "    def __call__(self, x): \n",
    "        # calculate the forward pass \n",
    "        if self.training: \n",
    "            # this if/elif was added to accommodate our wavenet! \n",
    "            if x.ndim == 2: \n",
    "                dim = 0 \n",
    "            elif x.ndim == 3: \n",
    "                dim = (0,1) # this is actually diff from pytorch, which expects (0,2)\n",
    "            xmean = x.mean(dim, keepdim=True) # batch mean \n",
    "            xvar = x.var(dim, keepdim=True) # batch variance \n",
    "        else: \n",
    "            xmean = self.running_mean \n",
    "            xvar = self.running_var \n",
    "        xhat = (x - xmean) / torch.sqrt(xvar + self.eps) # normalize to unit variance\n",
    "        self.out = self.gamma * xhat + self.beta # making it easier to maintain and plot \n",
    "\n",
    "        # update the buffers\n",
    "        if self.training: \n",
    "            with torch.no_grad(): \n",
    "                self.running_mean = (1-self.momentum) * self.running_mean + self.momentum * xmean\n",
    "                self.running_var = (1-self.momentum) * self.running_var + self.momentum * xvar \n",
    "        return self.out \n",
    "    \n",
    "    def parameters(self): \n",
    "        return [self.gamma, self.beta]\n",
    "\n",
    "class Tanh: \n",
    "    def __call__(self, x): \n",
    "        self.out = torch.tanh(x) \n",
    "        return self.out \n",
    "    def parameters(self): \n",
    "        return []\n",
    "    \n",
    "# NEW CLASSES -- so we can have our forward pass be strictly layer applications! \n",
    "# Embedding replaces the indexing into C \n",
    "# Flattening concatenates our 3 vectors representing chars into one vector \n",
    "# Turns out both of these exist in pytorch, same names! (+ more params)\n",
    "class Embedding: \n",
    "    def __init__(self, num_embeddings, embedding_dim): \n",
    "        self.weight = torch.randn((num_embeddings, embedding_dim))\n",
    "\n",
    "    def __call__(self, IX): \n",
    "        self.out = self.weight[IX]\n",
    "        return self.out\n",
    "    \n",
    "    def parameters(self): \n",
    "        return [self.weight]\n",
    "    \n",
    "class FlattenConsecutive: # we renamed this and modified it for WaveNet  \n",
    "    def __init__(self, n): \n",
    "        self.n = n \n",
    "\n",
    "    def __call__(self, x): \n",
    "        B, T, C = x.shape\n",
    "        x = x.view(B, T//self.n, C*self.n)\n",
    "        if x.shape[1] == 1: # if we have a spurious dimension: \n",
    "            x = x.squeeze(1) # get rid of dimension 1. (by default will eliminate any 1 dim) \n",
    "        self.out = x\n",
    "        return self.out \n",
    "    def parameters(self): \n",
    "        return []\n",
    "    \n",
    "        \n",
    "    \n",
    "class Sequential: \n",
    "    def __init__(self, layers): \n",
    "        self.layers = layers\n",
    "    \n",
    "    def __call__(self, x): \n",
    "        for layer in self.layers: \n",
    "            x = layer(x) \n",
    "        self.out = x \n",
    "        return self.out \n",
    "    \n",
    "    def parameters(self): \n",
    "        return [p for layer in self.layers for p in layer.parameters()]"
   ]
  },
  {
   "cell_type": "code",
   "execution_count": 49,
   "metadata": {},
   "outputs": [
    {
     "data": {
      "text/plain": [
       "<torch._C.Generator at 0x7f8cc0ea40b0>"
      ]
     },
     "execution_count": 49,
     "metadata": {},
     "output_type": "execute_result"
    }
   ],
   "source": [
    "torch.manual_seed(42)"
   ]
  },
  {
   "cell_type": "code",
   "execution_count": null,
   "metadata": {},
   "outputs": [
    {
     "name": "stdout",
     "output_type": "stream",
     "text": [
      "12097\n"
     ]
    }
   ],
   "source": [
    "# Initializing a network \n",
    "\n",
    "n_embd = 10 # dimensionality of character embedding vectors \n",
    "n_hidden = 200 # number of neurons in hidden layer \n",
    "\n",
    "model = Sequential([\n",
    "    Embedding(vocab_size, n_embd), \n",
    "    FlattenConsecutive(), \n",
    "    Linear(n_embd * block_size, n_hidden, bias=False), \n",
    "    BatchNorm1d(n_hidden),\n",
    "    Tanh(), \n",
    "    Linear(n_hidden, vocab_size),\n",
    "]) \n",
    "\n",
    "with torch.no_grad(): \n",
    "    # last layer: make less confident \n",
    "    model.layers[-1].weight *= 0.1 # he doesn't fix this but would be easy \n",
    "\n",
    "parameters = model.parameters()\n",
    "print(sum(p.nelement() for p in parameters))\n",
    "for p in parameters: \n",
    "    p.requires_grad = True \n"
   ]
  },
  {
   "cell_type": "code",
   "execution_count": 68,
   "metadata": {},
   "outputs": [
    {
     "name": "stdout",
     "output_type": "stream",
     "text": [
      "      0/ 200000: 3.2454\n",
      "  10000/ 200000: 2.5250\n",
      "  20000/ 200000: 2.2341\n",
      "  30000/ 200000: 2.0641\n",
      "  40000/ 200000: 2.1465\n",
      "  50000/ 200000: 2.2138\n",
      "  60000/ 200000: 2.5270\n",
      "  70000/ 200000: 2.0341\n",
      "  80000/ 200000: 2.1263\n",
      "  90000/ 200000: 1.6464\n",
      " 100000/ 200000: 2.5963\n",
      " 110000/ 200000: 2.3270\n",
      " 120000/ 200000: 1.8420\n",
      " 130000/ 200000: 1.8104\n",
      " 140000/ 200000: 2.0415\n",
      " 150000/ 200000: 2.2511\n",
      " 160000/ 200000: 2.0037\n",
      " 170000/ 200000: 2.2771\n",
      " 180000/ 200000: 2.0454\n",
      " 190000/ 200000: 2.0538\n"
     ]
    }
   ],
   "source": [
    "# same optimization as last time \n",
    "max_steps = 200000\n",
    "batch_size = 32 \n",
    "lossi = []\n",
    "\n",
    "for i in range(max_steps): \n",
    "    # minibatch \n",
    "    ix = torch.randint(0, Xtr.shape[0], (batch_size,))\n",
    "    Xb, Yb = Xtr[ix], Ytr[ix]\n",
    "\n",
    "    # forward pass \n",
    "    logits = model(Xb) \n",
    "    loss = F.cross_entropy(logits, Yb) # loss function \n",
    "\n",
    "    # backward pass \n",
    "    for p in parameters: \n",
    "        p.grad = None \n",
    "    loss.backward() \n",
    "\n",
    "    # update \n",
    "    lr = 0.1 if i < 100000 else 0.01 # learning rate decay \n",
    "    for p in parameters: \n",
    "        p.data += -lr * p.grad \n",
    "\n",
    "    # track stats \n",
    "    if i % 10000 == 0: \n",
    "        print(f'{i:7d}/{max_steps:7d}: {loss.item():.4f}')\n",
    "    lossi.append(loss.log10().item())"
   ]
  },
  {
   "cell_type": "code",
   "execution_count": 69,
   "metadata": {},
   "outputs": [
    {
     "data": {
      "text/plain": [
       "[<matplotlib.lines.Line2D at 0x7f8ce1a756d0>]"
      ]
     },
     "execution_count": 69,
     "metadata": {},
     "output_type": "execute_result"
    },
    {
     "data": {
      "image/png": "[encoded data removed]",
      "text/plain": [
       "<Figure size 432x288 with 1 Axes>"
      ]
     },
     "metadata": {
      "needs_background": "light"
     },
     "output_type": "display_data"
    }
   ],
   "source": [
    "# Andrej said the thickness of this plot is like daggers in his eyes... \n",
    "# batches too small = too much up and down of loss \n",
    "plt.plot(lossi)"
   ]
  },
  {
   "cell_type": "code",
   "execution_count": 70,
   "metadata": {},
   "outputs": [
    {
     "data": {
      "text/plain": [
       "[<matplotlib.lines.Line2D at 0x7f8cc303a220>]"
      ]
     },
     "execution_count": 70,
     "metadata": {},
     "output_type": "execute_result"
    },
    {
     "data": {
      "image/png": "[encoded data removed]",
      "text/plain": [
       "<Figure size 432x288 with 1 Axes>"
      ]
     },
     "metadata": {
      "needs_background": "light"
     },
     "output_type": "display_data"
    }
   ],
   "source": [
    "# look at the avg loss over time in groups of 1000 batches \n",
    "# looks like learning rate decrease helped us lock down something lower! \n",
    "# altho why is the mean 0.32 if we have 0.2? \n",
    "plt.plot(torch.tensor(lossi).view(-1, 1000).mean(1)) "
   ]
  },
  {
   "cell_type": "code",
   "execution_count": 71,
   "metadata": {},
   "outputs": [],
   "source": [
    "for layer in model.layers: \n",
    "    layer.training = False "
   ]
  },
  {
   "cell_type": "code",
   "execution_count": 72,
   "metadata": {},
   "outputs": [
    {
     "name": "stdout",
     "output_type": "stream",
     "text": [
      "train 2.0661983489990234\n",
      "val 2.1100142002105713\n"
     ]
    }
   ],
   "source": [
    "@torch.no_grad() # this decorator disables gradient tracking \n",
    "def split_loss(split): \n",
    "    x,y = {\n",
    "        'train': (Xtr, Ytr),\n",
    "        'val': (Xdev, Ydev),\n",
    "        'test': (Xte, Yte)\n",
    "    }[split]\n",
    "\n",
    "    logits = model(x) \n",
    "    loss = F.cross_entropy(logits, y)\n",
    "    print(split, loss.item())\n",
    "\n",
    "split_loss('train')\n",
    "split_loss('val')"
   ]
  },
  {
   "cell_type": "code",
   "execution_count": 73,
   "metadata": {},
   "outputs": [
    {
     "name": "stdout",
     "output_type": "stream",
     "text": [
      "khaiz.\n",
      "smraneedeston.\n",
      "alabardow.\n",
      "mel.\n",
      "man.\n",
      "kinity.\n",
      "sheem.\n",
      "milanes.\n",
      "lylee.\n",
      "rose.\n",
      "stas.\n",
      "saynci.\n",
      "stynicah.\n",
      "hat.\n",
      "yassia.\n",
      "keh.\n",
      "artyn.\n",
      "atseesleyannon.\n",
      "dolionariya.\n",
      "mellam.\n"
     ]
    }
   ],
   "source": [
    "for _ in range(20): \n",
    "    out = []\n",
    "    context = [0] * block_size \n",
    "    while True: \n",
    "        logits = model(torch.tensor([context]))\n",
    "        probs = F.softmax(logits, dim=1)\n",
    "        ix = torch.multinomial(probs, num_samples=1).item() \n",
    "        context = context[1:] + [ix]\n",
    "        out.append(ix) \n",
    "        if ix == 0: \n",
    "            break \n",
    "\n",
    "    print(''.join(itos[i] for i in out))"
   ]
  },
  {
   "cell_type": "markdown",
   "metadata": {},
   "source": [
    "## Ok building something Wavenet inspired! \n",
    "Fuse groups of 2 chars into bigrams, then those groups into groups of 4, etc \n",
    "Progressively incorporating more info \n",
    "\n",
    "#### a: naive just 8 char context instead of 3 "
   ]
  },
  {
   "cell_type": "code",
   "execution_count": 77,
   "metadata": {},
   "outputs": [
    {
     "name": "stdout",
     "output_type": "stream",
     "text": [
      "torch.Size([182441, 8]) torch.Size([182441])\n",
      "torch.Size([22902, 8]) torch.Size([22902])\n",
      "torch.Size([22803, 8]) torch.Size([22803])\n"
     ]
    }
   ],
   "source": [
    "# increasing block size \n",
    "block_size = 8\n",
    "\n",
    "random.seed(42) \n",
    "random.shuffle(words) # mix up the words \n",
    "n1 = int(0.8*len(words)) # 80% of words \n",
    "n2 = int(0.9*len(words)) # 90% of words \n",
    "\n",
    "Xtr, Ytr = build_dataset(words[:n1]) \n",
    "Xdev, Ydev = build_dataset(words[n1:n2])\n",
    "Xte, Yte = build_dataset(words[n2:])"
   ]
  },
  {
   "cell_type": "code",
   "execution_count": 78,
   "metadata": {},
   "outputs": [
    {
     "name": "stdout",
     "output_type": "stream",
     "text": [
      "........ --> e\n",
      ".......e --> l\n",
      "......el --> i\n",
      ".....eli --> a\n",
      "....elia --> n\n",
      "...elian --> y\n",
      "..eliany --> s\n",
      ".elianys --> .\n",
      "........ --> t\n",
      ".......t --> r\n",
      "......tr --> o\n",
      ".....tro --> y\n",
      "....troy --> .\n",
      "........ --> m\n",
      ".......m --> a\n",
      "......ma --> r\n",
      ".....mar --> k\n",
      "....mark --> u\n",
      "...marku --> s\n",
      "..markus --> .\n"
     ]
    }
   ],
   "source": [
    "for x,y in zip(Xtr[:20], Ytr[:20]): \n",
    "    print(''.join(itos[ix.item()] for ix in x), '-->', itos[y.item()])"
   ]
  },
  {
   "cell_type": "code",
   "execution_count": 79,
   "metadata": {},
   "outputs": [
    {
     "data": {
      "text/plain": [
       "<torch._C.Generator at 0x7f8cc0ea40b0>"
      ]
     },
     "execution_count": 79,
     "metadata": {},
     "output_type": "execute_result"
    }
   ],
   "source": [
    "torch.manual_seed(42)"
   ]
  },
  {
   "cell_type": "code",
   "execution_count": 119,
   "metadata": {},
   "outputs": [
    {
     "name": "stdout",
     "output_type": "stream",
     "text": [
      "22097\n"
     ]
    }
   ],
   "source": [
    "# Initializing a network \n",
    "\n",
    "n_embd = 10 # dimensionality of character embedding vectors \n",
    "n_hidden = 200 # number of neurons in hidden layer \n",
    "\n",
    "model = Sequential([\n",
    "    Embedding(vocab_size, n_embd), \n",
    "    FlattenConsecutive(block_size), \n",
    "    Linear(n_embd * block_size, n_hidden, bias=False), \n",
    "    BatchNorm1d(n_hidden),\n",
    "    Tanh(), \n",
    "    Linear(n_hidden, vocab_size),\n",
    "]) \n",
    "\n",
    "with torch.no_grad(): \n",
    "    # last layer: make less confident \n",
    "    model.layers[-1].weight *= 0.1 # he doesn't fix this but would be easy \n",
    "\n",
    "parameters = model.parameters()\n",
    "print(sum(p.nelement() for p in parameters))\n",
    "for p in parameters: \n",
    "    p.requires_grad = True \n"
   ]
  },
  {
   "cell_type": "code",
   "execution_count": 122,
   "metadata": {},
   "outputs": [
    {
     "name": "stdout",
     "output_type": "stream",
     "text": [
      "      0/ 200000: 1.6403\n",
      "  10000/ 200000: 2.0850\n",
      "  20000/ 200000: 2.3254\n",
      "  30000/ 200000: 1.8707\n",
      "  40000/ 200000: 2.0901\n",
      "  50000/ 200000: 2.0415\n",
      "  60000/ 200000: 2.3591\n",
      "  70000/ 200000: 1.9005\n",
      "  80000/ 200000: 2.0436\n",
      "  90000/ 200000: 2.2018\n",
      " 100000/ 200000: 1.9588\n",
      " 110000/ 200000: 1.8213\n",
      " 120000/ 200000: 1.7877\n",
      " 130000/ 200000: 1.8070\n",
      " 140000/ 200000: 1.8533\n",
      " 150000/ 200000: 2.3163\n",
      " 160000/ 200000: 1.9926\n",
      " 170000/ 200000: 1.7721\n",
      " 180000/ 200000: 1.9548\n",
      " 190000/ 200000: 1.5186\n"
     ]
    }
   ],
   "source": [
    "# same optimization as last time \n",
    "max_steps = 200000\n",
    "batch_size = 32 \n",
    "lossi = []\n",
    "\n",
    "for i in range(max_steps): \n",
    "    # minibatch \n",
    "    ix = torch.randint(0, Xtr.shape[0], (batch_size,))\n",
    "    Xb, Yb = Xtr[ix], Ytr[ix]\n",
    "\n",
    "    # forward pass \n",
    "    logits = model(Xb) \n",
    "    loss = F.cross_entropy(logits, Yb) # loss function \n",
    "\n",
    "    # backward pass \n",
    "    for p in parameters: \n",
    "        p.grad = None \n",
    "    loss.backward() \n",
    "\n",
    "    # update \n",
    "    lr = 0.1 if i < 100000 else 0.01 # learning rate decay \n",
    "    for p in parameters: \n",
    "        p.data += -lr * p.grad \n",
    "\n",
    "    # track stats \n",
    "    if i % 10000 == 0: \n",
    "        print(f'{i:7d}/{max_steps:7d}: {loss.item():.4f}')\n",
    "    lossi.append(loss.log10().item())"
   ]
  },
  {
   "cell_type": "code",
   "execution_count": null,
   "metadata": {},
   "outputs": [
    {
     "name": "stdout",
     "output_type": "stream",
     "text": [
      "train 1.9277074337005615\n",
      "val 2.0280654430389404\n"
     ]
    }
   ],
   "source": [
    "# definitely improves our loss! \n",
    "@torch.no_grad() # this decorator disables gradient tracking \n",
    "def split_loss(split): \n",
    "    x,y = {\n",
    "        'train': (Xtr, Ytr),\n",
    "        'val': (Xdev, Ydev),\n",
    "        'test': (Xte, Yte)\n",
    "    }[split]\n",
    "\n",
    "    logits = model(x) \n",
    "    loss = F.cross_entropy(logits, y)\n",
    "    print(split, loss.item())\n",
    "\n",
    "split_loss('train')\n",
    "split_loss('val')"
   ]
  },
  {
   "cell_type": "markdown",
   "metadata": {},
   "source": [
    "### b actually the hierarchical model \n",
    "\n",
    "just checking out our data at first "
   ]
  },
  {
   "cell_type": "code",
   "execution_count": 83,
   "metadata": {},
   "outputs": [
    {
     "name": "stdout",
     "output_type": "stream",
     "text": [
      "torch.Size([4, 8])\n"
     ]
    },
    {
     "data": {
      "text/plain": [
       "tensor([[ 0,  0,  0,  0,  0,  0,  0,  0],\n",
       "        [ 0,  2, 18,  9, 20, 20,  5, 14],\n",
       "        [ 0,  0,  0,  0,  0,  0, 10,  1],\n",
       "        [ 0,  0,  0,  0,  0,  7,  9,  1]])"
      ]
     },
     "execution_count": 83,
     "metadata": {},
     "output_type": "execute_result"
    }
   ],
   "source": [
    "ix = torch.randint(0, Xtr.shape[0], (4,))\n",
    "Xb, Yb = Xtr[ix], Ytr[ix]\n",
    "logits = model(Xb) \n",
    "print(Xb.shape) \n",
    "Xb"
   ]
  },
  {
   "cell_type": "code",
   "execution_count": 84,
   "metadata": {},
   "outputs": [
    {
     "data": {
      "text/plain": [
       "torch.Size([4, 8, 10])"
      ]
     },
     "execution_count": 84,
     "metadata": {},
     "output_type": "execute_result"
    }
   ],
   "source": [
    "model.layers[0].out.shape"
   ]
  },
  {
   "cell_type": "code",
   "execution_count": 85,
   "metadata": {},
   "outputs": [
    {
     "data": {
      "text/plain": [
       "torch.Size([4, 80])"
      ]
     },
     "execution_count": 85,
     "metadata": {},
     "output_type": "execute_result"
    }
   ],
   "source": [
    "model.layers[1].out.shape"
   ]
  },
  {
   "cell_type": "code",
   "execution_count": null,
   "metadata": {},
   "outputs": [
    {
     "data": {
      "text/plain": [
       "torch.Size([4, 200])"
      ]
     },
     "execution_count": 86,
     "metadata": {},
     "output_type": "execute_result"
    }
   ],
   "source": [
    "model.layers[2].out.shape\n",
    "# this is like 4x80 matrix times 80x200 matrix plus a 200dim bias "
   ]
  },
  {
   "cell_type": "markdown",
   "metadata": {},
   "source": [
    "He notes that pytorch matrix multiplier can operate on more than 2 dimensions. \n",
    "E.g. it doesn't need to be (4x80) times (80x200). It could be (4x5x80) times (80x200) \n",
    "Pytorch treats it sort of like another dimension of batches and just multiplies\n",
    "along the last dimension. \n",
    "Helpful given that we want to process our characters in parallel in batches: \n",
    "(1 2) (3 4) (5 6) (7 8)\n",
    "\n",
    "Instead of 4x80 times 80x200, we want: \n",
    "(4x4x20) => 4 examples, 4 groups of chars, each group has 2 chars or 20 dimensional embedding \n",
    "(80x200) linear layer should only expect 20d vector coming in \n"
   ]
  },
  {
   "cell_type": "code",
   "execution_count": 88,
   "metadata": {},
   "outputs": [
    {
     "data": {
      "text/plain": [
       "torch.Size([4, 4, 20])"
      ]
     },
     "execution_count": 88,
     "metadata": {},
     "output_type": "execute_result"
    }
   ],
   "source": [
    "e = torch.randn(4, 8, 10) # want this to be 4x4x20 \n",
    "e[:, ::2, :] # the ::2 says just even characters \n",
    "e[:, 1::2, :] # this is all odd characters \n",
    "\n",
    "# let's concatenate these along the second dimension \n",
    "explicit = torch.cat([e[:, ::2, :], e[:, 1::2, :]], dim=2)\n",
    "explicit.shape"
   ]
  },
  {
   "cell_type": "code",
   "execution_count": null,
   "metadata": {},
   "outputs": [
    {
     "data": {
      "text/plain": [
       "tensor(True)"
      ]
     },
     "execution_count": 90,
     "metadata": {},
     "output_type": "execute_result"
    }
   ],
   "source": [
    "# wow.. or you can just use view! so handy \n",
    "# and it gives you the same result \n",
    "(e.view(4, 4, 20) == explicit).all()"
   ]
  },
  {
   "cell_type": "code",
   "execution_count": 123,
   "metadata": {},
   "outputs": [
    {
     "name": "stdout",
     "output_type": "stream",
     "text": [
      "22397\n"
     ]
    }
   ],
   "source": [
    "# Initializing a network \n",
    "\n",
    "n_embd = 10 # dimensionality of character embedding vectors \n",
    "n_hidden = 68 # reducing this so we have same # of params roughly \n",
    "\n",
    "model = Sequential([\n",
    "    Embedding(vocab_size, n_embd), \n",
    "\n",
    "    # grouping chars in groups of 2 \n",
    "    FlattenConsecutive(2), Linear(n_embd * 2, n_hidden, bias=False), BatchNorm1d(n_hidden), Tanh(), \n",
    "    # then 4 \n",
    "    FlattenConsecutive(2), Linear(n_hidden * 2, n_hidden, bias=False), BatchNorm1d(n_hidden), Tanh(), \n",
    "    # then 8\n",
    "    FlattenConsecutive(2), Linear(n_hidden * 2, n_hidden, bias=False), BatchNorm1d(n_hidden), Tanh(), \n",
    "    Linear(n_hidden, vocab_size),\n",
    "]) \n",
    "\n",
    "with torch.no_grad(): \n",
    "    # last layer: make less confident \n",
    "    model.layers[-1].weight *= 0.1 # he doesn't fix this but would be easy \n",
    "\n",
    "parameters = model.parameters()\n",
    "print(sum(p.nelement() for p in parameters))\n",
    "for p in parameters: \n",
    "    p.requires_grad = True \n"
   ]
  },
  {
   "cell_type": "code",
   "execution_count": 109,
   "metadata": {},
   "outputs": [
    {
     "name": "stdout",
     "output_type": "stream",
     "text": [
      "torch.Size([4, 8])\n"
     ]
    },
    {
     "data": {
      "text/plain": [
       "tensor([[ 0,  0,  0,  0,  0,  0,  0,  3],\n",
       "        [ 0,  0,  0,  0,  0, 19,  1, 13],\n",
       "        [ 0,  0,  0,  0,  0,  0,  0,  0],\n",
       "        [ 0,  0,  0,  0, 10,  1, 26, 13]])"
      ]
     },
     "execution_count": 109,
     "metadata": {},
     "output_type": "execute_result"
    }
   ],
   "source": [
    "# toy example again \n",
    "ix = torch.randint(0, Xtr.shape[0], (4,))\n",
    "Xb, Yb = Xtr[ix], Ytr[ix]\n",
    "logits = model(Xb) \n",
    "print(Xb.shape)\n",
    "Xb"
   ]
  },
  {
   "cell_type": "code",
   "execution_count": 110,
   "metadata": {},
   "outputs": [
    {
     "name": "stdout",
     "output_type": "stream",
     "text": [
      "Embedding : (4, 8, 10)\n",
      "FlattenConsecutive : (4, 4, 20)\n",
      "Linear : (4, 4, 68)\n",
      "BatchNorm1d : (4, 4, 68)\n",
      "Tanh : (4, 4, 68)\n",
      "FlattenConsecutive : (4, 2, 136)\n",
      "Linear : (4, 2, 68)\n",
      "BatchNorm1d : (4, 2, 68)\n",
      "Tanh : (4, 2, 68)\n",
      "FlattenConsecutive : (4, 136)\n",
      "Linear : (4, 68)\n",
      "BatchNorm1d : (4, 68)\n",
      "Tanh : (4, 68)\n",
      "Linear : (4, 27)\n"
     ]
    }
   ],
   "source": [
    "for layer in model.layers: \n",
    "    print(layer.__class__.__name__, ':', tuple(layer.out.shape))"
   ]
  },
  {
   "cell_type": "code",
   "execution_count": 124,
   "metadata": {},
   "outputs": [
    {
     "name": "stdout",
     "output_type": "stream",
     "text": [
      "      0/ 200000: 3.2784\n",
      "  10000/ 200000: 2.8707\n",
      "  20000/ 200000: 1.7554\n",
      "  30000/ 200000: 2.2420\n",
      "  40000/ 200000: 2.1277\n",
      "  50000/ 200000: 2.0366\n",
      "  60000/ 200000: 1.9148\n",
      "  70000/ 200000: 1.5717\n",
      "  80000/ 200000: 2.5683\n",
      "  90000/ 200000: 2.0915\n",
      " 100000/ 200000: 1.9880\n",
      " 110000/ 200000: 2.1625\n",
      " 120000/ 200000: 2.0720\n",
      " 130000/ 200000: 1.9207\n",
      " 140000/ 200000: 1.5053\n",
      " 150000/ 200000: 1.9025\n",
      " 160000/ 200000: 2.1609\n",
      " 170000/ 200000: 1.8950\n",
      " 180000/ 200000: 1.9935\n",
      " 190000/ 200000: 1.9744\n"
     ]
    }
   ],
   "source": [
    "# same optimization as last time \n",
    "max_steps = 200000\n",
    "batch_size = 32 \n",
    "lossi = []\n",
    "\n",
    "for i in range(max_steps): \n",
    "    # minibatch \n",
    "    ix = torch.randint(0, Xtr.shape[0], (batch_size,))\n",
    "    Xb, Yb = Xtr[ix], Ytr[ix]\n",
    "\n",
    "    # forward pass \n",
    "    logits = model(Xb) \n",
    "    loss = F.cross_entropy(logits, Yb) # loss function \n",
    "\n",
    "    # backward pass \n",
    "    for p in parameters: \n",
    "        p.grad = None \n",
    "    loss.backward() \n",
    "\n",
    "    # update \n",
    "    lr = 0.1 if i < 100000 else 0.01 # learning rate decay \n",
    "    for p in parameters: \n",
    "        p.data += -lr * p.grad \n",
    "\n",
    "    # track stats \n",
    "    if i % 10000 == 0: \n",
    "        print(f'{i:7d}/{max_steps:7d}: {loss.item():.4f}')\n",
    "    lossi.append(loss.log10().item())\n"
   ]
  },
  {
   "cell_type": "code",
   "execution_count": 125,
   "metadata": {},
   "outputs": [
    {
     "data": {
      "text/plain": [
       "[<matplotlib.lines.Line2D at 0x7f8c901fa7c0>]"
      ]
     },
     "execution_count": 125,
     "metadata": {},
     "output_type": "execute_result"
    },
    {
     "data": {
      "image/png": "[encoded data removed]",
      "text/plain": [
       "<Figure size 432x288 with 1 Axes>"
      ]
     },
     "metadata": {
      "needs_background": "light"
     },
     "output_type": "display_data"
    }
   ],
   "source": [
    "plt.plot(torch.tensor(lossi).view(-1, 1000).mean(1)) "
   ]
  },
  {
   "cell_type": "code",
   "execution_count": 126,
   "metadata": {},
   "outputs": [
    {
     "name": "stdout",
     "output_type": "stream",
     "text": [
      "train 1.9222395420074463\n",
      "val 2.0189208984375\n"
     ]
    }
   ],
   "source": [
    "split_loss('train')\n",
    "split_loss('val')"
   ]
  },
  {
   "cell_type": "markdown",
   "metadata": {},
   "source": [
    "Very similar result. We could do more optimization -- but also need to take a \n",
    "closer look at Batchnorm -- it's running through right now, but maybe not \n",
    "correctly. We didn't design it with this use case in mind. "
   ]
  },
  {
   "cell_type": "code",
   "execution_count": null,
   "metadata": {},
   "outputs": [
    {
     "name": "stdout",
     "output_type": "stream",
     "text": [
      "torch.Size([1, 4, 68])\n"
     ]
    },
    {
     "data": {
      "text/plain": [
       "torch.Size([1, 1, 68])"
      ]
     },
     "execution_count": 116,
     "metadata": {},
     "output_type": "execute_result"
    }
   ],
   "source": [
    "e = torch.randn(32, 4, 68) \n",
    "\n",
    "# rn means are only taken over the 32 numbers in the first dimension \n",
    "emean = e.mean(0, keepdim=True) # 1, 4, 68 \n",
    "evar = e.var(0, keepdim=True) # 1, 4, 68 \n",
    "\n",
    "print(model.layers[3].running_mean.shape) \n",
    "\n",
    "# We want this to run over 68 channels, not 4x68 \n",
    "# We want to treat the 4 as a batch dimension, just like the 0th dimension \n",
    "# Seems like we want the same avgs for all pairs of 2 chars, for example \n",
    "\n",
    "# What we should do instead is: \n",
    "emean = e.mean((0,1), keepdim=True) # 1, 4, 68 \n",
    "emean.shape\n",
    "\n",
    "# this is now fixed in our implementation of batchnorm "
   ]
  },
  {
   "cell_type": "markdown",
   "metadata": {},
   "source": [
    "### trying more neurons in our wavenet "
   ]
  },
  {
   "cell_type": "code",
   "execution_count": 127,
   "metadata": {},
   "outputs": [
    {
     "name": "stdout",
     "output_type": "stream",
     "text": [
      "72617\n"
     ]
    }
   ],
   "source": [
    "# Initializing a network \n",
    "\n",
    "n_embd = 10 # dimensionality of character embedding vectors \n",
    "n_hidden = 128 # reducing this so we have same # of params roughly \n",
    "\n",
    "model = Sequential([\n",
    "    Embedding(vocab_size, n_embd), \n",
    "\n",
    "    # grouping chars in groups of 2 \n",
    "    FlattenConsecutive(2), Linear(n_embd * 2, n_hidden, bias=False), BatchNorm1d(n_hidden), Tanh(), \n",
    "    # then 4 \n",
    "    FlattenConsecutive(2), Linear(n_hidden * 2, n_hidden, bias=False), BatchNorm1d(n_hidden), Tanh(), \n",
    "    # then 8\n",
    "    FlattenConsecutive(2), Linear(n_hidden * 2, n_hidden, bias=False), BatchNorm1d(n_hidden), Tanh(), \n",
    "    Linear(n_hidden, vocab_size),\n",
    "]) \n",
    "\n",
    "with torch.no_grad(): \n",
    "    # last layer: make less confident \n",
    "    model.layers[-1].weight *= 0.1 # he doesn't fix this but would be easy \n",
    "\n",
    "parameters = model.parameters()\n",
    "print(sum(p.nelement() for p in parameters))\n",
    "for p in parameters: \n",
    "    p.requires_grad = True \n"
   ]
  },
  {
   "cell_type": "code",
   "execution_count": 128,
   "metadata": {},
   "outputs": [
    {
     "name": "stdout",
     "output_type": "stream",
     "text": [
      "      0/ 200000: 3.3289\n",
      "  10000/ 200000: 2.0724\n",
      "  20000/ 200000: 2.4443\n",
      "  30000/ 200000: 1.9203\n",
      "  40000/ 200000: 2.0261\n",
      "  50000/ 200000: 2.0673\n",
      "  60000/ 200000: 2.2431\n",
      "  70000/ 200000: 2.4649\n",
      "  80000/ 200000: 2.6019\n",
      "  90000/ 200000: 1.3830\n",
      " 100000/ 200000: 1.9304\n",
      " 110000/ 200000: 2.0226\n",
      " 120000/ 200000: 2.1434\n",
      " 130000/ 200000: 1.8768\n",
      " 140000/ 200000: 1.5387\n",
      " 150000/ 200000: 2.0156\n",
      " 160000/ 200000: 2.2109\n",
      " 170000/ 200000: 1.7822\n",
      " 180000/ 200000: 1.6991\n",
      " 190000/ 200000: 2.2018\n"
     ]
    }
   ],
   "source": [
    "# same optimization as last time \n",
    "max_steps = 200000\n",
    "batch_size = 32 \n",
    "lossi = []\n",
    "\n",
    "for i in range(max_steps): \n",
    "    # minibatch \n",
    "    ix = torch.randint(0, Xtr.shape[0], (batch_size,))\n",
    "    Xb, Yb = Xtr[ix], Ytr[ix]\n",
    "\n",
    "    # forward pass \n",
    "    logits = model(Xb) \n",
    "    loss = F.cross_entropy(logits, Yb) # loss function \n",
    "\n",
    "    # backward pass \n",
    "    for p in parameters: \n",
    "        p.grad = None \n",
    "    loss.backward() \n",
    "\n",
    "    # update \n",
    "    lr = 0.1 if i < 100000 else 0.01 # learning rate decay \n",
    "    for p in parameters: \n",
    "        p.data += -lr * p.grad \n",
    "\n",
    "    # track stats \n",
    "    if i % 10000 == 0: \n",
    "        print(f'{i:7d}/{max_steps:7d}: {loss.item():.4f}')\n",
    "    lossi.append(loss.log10().item())\n"
   ]
  },
  {
   "cell_type": "code",
   "execution_count": 129,
   "metadata": {},
   "outputs": [
    {
     "data": {
      "text/plain": [
       "[<matplotlib.lines.Line2D at 0x7f8c90181a90>]"
      ]
     },
     "execution_count": 129,
     "metadata": {},
     "output_type": "execute_result"
    },
    {
     "data": {
      "image/png": "[encoded data removed]",
      "text/plain": [
       "<Figure size 432x288 with 1 Axes>"
      ]
     },
     "metadata": {
      "needs_background": "light"
     },
     "output_type": "display_data"
    }
   ],
   "source": [
    "plt.plot(torch.tensor(lossi).view(-1, 1000).mean(1)) "
   ]
  },
  {
   "cell_type": "code",
   "execution_count": 130,
   "metadata": {},
   "outputs": [
    {
     "name": "stdout",
     "output_type": "stream",
     "text": [
      "train 1.8122029304504395\n",
      "val 1.9938666820526123\n"
     ]
    }
   ],
   "source": [
    "split_loss('train')\n",
    "split_loss('val')"
   ]
  },
  {
   "cell_type": "markdown",
   "metadata": {},
   "source": []
  }
 ],
 "metadata": {
  "kernelspec": {
   "display_name": "base",
   "language": "python",
   "name": "python3"
  },
  "language_info": {
   "codemirror_mode": {
    "name": "ipython",
    "version": 3
   },
   "file_extension": ".py",
   "mimetype": "text/x-python",
   "name": "python",
   "nbconvert_exporter": "python",
   "pygments_lexer": "ipython3",
   "version": "3.8.5"
  }
 },
 "nbformat": 4,
 "nbformat_minor": 2
}
