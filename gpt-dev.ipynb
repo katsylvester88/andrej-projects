{
 "cells": [
  {
   "cell_type": "markdown",
   "metadata": {},
   "source": [
    "## Development notebook \n",
    "Walking through process intuitively "
   ]
  },
  {
   "cell_type": "code",
   "execution_count": 2,
   "metadata": {},
   "outputs": [
    {
     "name": "stdout",
     "output_type": "stream",
     "text": [
      "--2025-05-16 13:48:21--  https://raw.githubusercontent.com/karpathy/char-rnn/master/data/tinyshakespeare/input.txt\n",
      "Resolving raw.githubusercontent.com (raw.githubusercontent.com)... 185.199.108.133, 185.199.109.133, 185.199.110.133, ...\n",
      "Connecting to raw.githubusercontent.com (raw.githubusercontent.com)|185.199.108.133|:443... connected.\n",
      "HTTP request sent, awaiting response... 200 OK\n",
      "Length: 1115394 (1.1M) [text/plain]\n",
      "Saving to: ‘input.txt.1’\n",
      "\n",
      "input.txt.1         100%[===================>]   1.06M  --.-KB/s    in 0.1s    \n",
      "\n",
      "2025-05-16 13:48:21 (7.82 MB/s) - ‘input.txt.1’ saved [1115394/1115394]\n",
      "\n"
     ]
    }
   ],
   "source": [
    "# all of shakespeare's works, concatenated \n",
    "!wget https://raw.githubusercontent.com/karpathy/char-rnn/master/data/tinyshakespeare/input.txt"
   ]
  },
  {
   "cell_type": "code",
   "execution_count": 3,
   "metadata": {},
   "outputs": [],
   "source": [
    "with open('input.txt', 'r', encoding='utf-8') as f: \n",
    "    text = f.read() "
   ]
  },
  {
   "cell_type": "code",
   "execution_count": 4,
   "metadata": {},
   "outputs": [
    {
     "name": "stdout",
     "output_type": "stream",
     "text": [
      "number of chars in dataset:  1115394\n"
     ]
    }
   ],
   "source": [
    "print(\"number of chars in dataset: \", len(text))"
   ]
  },
  {
   "cell_type": "code",
   "execution_count": 5,
   "metadata": {},
   "outputs": [
    {
     "name": "stdout",
     "output_type": "stream",
     "text": [
      "First Citizen:\n",
      "Before we proceed any further, hear me speak.\n",
      "\n",
      "All:\n",
      "Speak, speak.\n",
      "\n",
      "First Citizen:\n",
      "You\n"
     ]
    }
   ],
   "source": [
    "print(text[:100])"
   ]
  },
  {
   "cell_type": "code",
   "execution_count": 6,
   "metadata": {},
   "outputs": [
    {
     "name": "stdout",
     "output_type": "stream",
     "text": [
      "\n",
      " !$&',-.3:;?ABCDEFGHIJKLMNOPQRSTUVWXYZabcdefghijklmnopqrstuvwxyz\n",
      "65\n"
     ]
    }
   ],
   "source": [
    "# get unique characters, sorted\n",
    "# funny that 3 is the only number? \n",
    "chars = sorted(list(set(text))) \n",
    "vocab_size = len(chars) \n",
    "print(''.join(chars))\n",
    "print(vocab_size)"
   ]
  },
  {
   "cell_type": "code",
   "execution_count": 7,
   "metadata": {},
   "outputs": [],
   "source": [
    "# mapping from characters to integers \n",
    "# OpenAI uses tiktoken \n",
    "stoi = {ch:i for i,ch in enumerate(chars)} # string to integer \n",
    "itos = {i:ch for i,ch in enumerate(chars)} # integer to string \n",
    "\n",
    "encode = lambda s: [stoi[c] for c in s] # encodes chars \n",
    "decode = lambda l: ''.join([itos[i] for i in l]) # decodes numbers "
   ]
  },
  {
   "cell_type": "code",
   "execution_count": 8,
   "metadata": {},
   "outputs": [
    {
     "name": "stdout",
     "output_type": "stream",
     "text": [
      "[46, 43, 50, 50, 53, 53, 53]\n",
      "hellooo\n"
     ]
    }
   ],
   "source": [
    "print(encode(\"hellooo\"))\n",
    "print(decode(encode(\"hellooo\")))"
   ]
  },
  {
   "cell_type": "code",
   "execution_count": 9,
   "metadata": {},
   "outputs": [
    {
     "name": "stdout",
     "output_type": "stream",
     "text": [
      "torch.Size([1115394]) torch.int64\n",
      "tensor([18, 47, 56, 57, 58,  1, 15, 47, 58, 47, 64, 43, 52, 10,  0, 14, 43, 44,\n",
      "        53, 56, 43,  1, 61, 43,  1, 54, 56, 53, 41, 43, 43, 42,  1, 39, 52, 63,\n",
      "         1, 44, 59, 56, 58, 46, 43, 56,  6,  1, 46, 43, 39, 56,  1, 51, 43,  1,\n",
      "        57, 54, 43, 39, 49,  8,  0,  0, 13, 50, 50, 10,  0, 31, 54, 43, 39, 49,\n",
      "         6,  1, 57, 54, 43, 39, 49,  8,  0,  0, 18, 47, 56, 57, 58,  1, 15, 47,\n",
      "        58, 47, 64, 43, 52, 10,  0, 37, 53, 59])\n"
     ]
    }
   ],
   "source": [
    "import torch # pytorch. Need to use python3.8, doesn't support 3.13 \n",
    "\n",
    "data = torch.tensor(encode(text), dtype=torch.long)\n",
    "print(data.shape, data.dtype)\n",
    "print(data[:100])"
   ]
  },
  {
   "cell_type": "code",
   "execution_count": 10,
   "metadata": {},
   "outputs": [],
   "source": [
    "# train validation split \n",
    "n = int(0.9*len(data))\n",
    "train = data[:n]\n",
    "val = data[n:]"
   ]
  },
  {
   "cell_type": "code",
   "execution_count": 11,
   "metadata": {},
   "outputs": [
    {
     "name": "stdout",
     "output_type": "stream",
     "text": [
      "when input is tensor([18]) the target is: 47\n",
      "when input is tensor([18, 47]) the target is: 56\n",
      "when input is tensor([18, 47, 56]) the target is: 57\n",
      "when input is tensor([18, 47, 56, 57]) the target is: 58\n",
      "when input is tensor([18, 47, 56, 57, 58]) the target is: 1\n",
      "when input is tensor([18, 47, 56, 57, 58,  1]) the target is: 15\n",
      "when input is tensor([18, 47, 56, 57, 58,  1, 15]) the target is: 47\n",
      "when input is tensor([18, 47, 56, 57, 58,  1, 15, 47]) the target is: 58\n"
     ]
    }
   ],
   "source": [
    "# We want transformer to be used to seeing any number of chars as input \n",
    "# Anything up to block size \n",
    "block_size = 8 # kind of arbitrary? \n",
    "x = train[:block_size]\n",
    "y = train[1:block_size+1]\n",
    "for t in range(block_size): \n",
    "    context = x[:t+1]   \n",
    "    target = y[t] # y[t] = x[t+1] by definition. always 1 step ahead \n",
    "    print(f\"when input is {context} the target is: {target}\")"
   ]
  },
  {
   "cell_type": "code",
   "execution_count": 12,
   "metadata": {},
   "outputs": [
    {
     "name": "stdout",
     "output_type": "stream",
     "text": [
      "when input is tensor([18]) the target is: 47\n",
      "when input is tensor([18, 47]) the target is: 56\n",
      "when input is tensor([18, 47, 56]) the target is: 57\n",
      "when input is tensor([18, 47, 56, 57]) the target is: 58\n",
      "when input is tensor([18, 47, 56, 57, 58]) the target is: 1\n",
      "when input is tensor([18, 47, 56, 57, 58,  1]) the target is: 15\n",
      "when input is tensor([18, 47, 56, 57, 58,  1, 15]) the target is: 47\n",
      "when input is tensor([18, 47, 56, 57, 58,  1, 15, 47]) the target is: 58\n"
     ]
    }
   ],
   "source": [
    "# different way of writing the above \n",
    "block_size = 8 \n",
    "sample = train[:block_size+1]\n",
    "for t in range(block_size): \n",
    "    context = sample[:t+1]   \n",
    "    target = sample[t+1]  \n",
    "    print(f\"when input is {context} the target is: {target}\")"
   ]
  },
  {
   "cell_type": "code",
   "execution_count": 13,
   "metadata": {},
   "outputs": [],
   "source": [
    "torch.manual_seed(1337) \n",
    "batch_size = 4 # how many sequences we'll process in parallel \n",
    "block_size = 8 # max context length \n",
    "\n",
    "def get_batch(split): # split = train or val? \n",
    "    data = train if split == 'train' else val \n",
    "    ix = torch.randint(len(data) - block_size, (batch_size,)) # random offsets into training set\n",
    "    x = torch.stack([data[i:i+block_size] for i in ix]) # stack = stack 1D tensors as rows\n",
    "    y = torch.stack([data[i+1:i+block_size+1] for i in ix])\n",
    "\n",
    "    return x,y \n",
    "\n",
    "xb, yb = get_batch('train')"
   ]
  },
  {
   "cell_type": "code",
   "execution_count": null,
   "metadata": {},
   "outputs": [
    {
     "name": "stdout",
     "output_type": "stream",
     "text": [
      "inputs:\n",
      "torch.Size([4, 8])\n",
      "tensor([[43,  1, 51, 39, 63,  1, 40, 43],\n",
      "        [58, 46, 43,  1, 43, 39, 56, 57],\n",
      "        [39, 58, 47, 53, 52, 12,  1, 37],\n",
      "        [53, 56, 43,  1, 21,  1, 41, 39]])\n",
      "targets:\n",
      "torch.Size([4, 8])\n",
      "tensor([[ 1, 51, 39, 63,  1, 40, 43,  1],\n",
      "        [46, 43,  1, 43, 39, 56, 57, 10],\n",
      "        [58, 47, 53, 52, 12,  1, 37, 53],\n",
      "        [56, 43,  1, 21,  1, 41, 39, 51]])\n",
      "-----\n",
      "when input is [43] then target is 1\n",
      "when input is [43, 1] then target is 51\n",
      "when input is [43, 1, 51] then target is 39\n",
      "when input is [43, 1, 51, 39] then target is 63\n",
      "when input is [43, 1, 51, 39, 63] then target is 1\n",
      "when input is [43, 1, 51, 39, 63, 1] then target is 40\n",
      "when input is [43, 1, 51, 39, 63, 1, 40] then target is 43\n",
      "when input is [43, 1, 51, 39, 63, 1, 40, 43] then target is 1\n",
      "when input is [58] then target is 46\n",
      "when input is [58, 46] then target is 43\n",
      "when input is [58, 46, 43] then target is 1\n",
      "when input is [58, 46, 43, 1] then target is 43\n",
      "when input is [58, 46, 43, 1, 43] then target is 39\n",
      "when input is [58, 46, 43, 1, 43, 39] then target is 56\n",
      "when input is [58, 46, 43, 1, 43, 39, 56] then target is 57\n",
      "when input is [58, 46, 43, 1, 43, 39, 56, 57] then target is 10\n",
      "when input is [39] then target is 58\n",
      "when input is [39, 58] then target is 47\n",
      "when input is [39, 58, 47] then target is 53\n",
      "when input is [39, 58, 47, 53] then target is 52\n",
      "when input is [39, 58, 47, 53, 52] then target is 12\n",
      "when input is [39, 58, 47, 53, 52, 12] then target is 1\n",
      "when input is [39, 58, 47, 53, 52, 12, 1] then target is 37\n",
      "when input is [39, 58, 47, 53, 52, 12, 1, 37] then target is 53\n",
      "when input is [53] then target is 56\n",
      "when input is [53, 56] then target is 43\n",
      "when input is [53, 56, 43] then target is 1\n",
      "when input is [53, 56, 43, 1] then target is 21\n",
      "when input is [53, 56, 43, 1, 21] then target is 1\n",
      "when input is [53, 56, 43, 1, 21, 1] then target is 41\n",
      "when input is [53, 56, 43, 1, 21, 1, 41] then target is 39\n",
      "when input is [53, 56, 43, 1, 21, 1, 41, 39] then target is 51\n"
     ]
    }
   ],
   "source": [
    "xb, yb = get_batch('train')\n",
    "print('inputs:')\n",
    "print(xb.shape) # 4 sets of length-8 text, randomly sampled from data\n",
    "print(xb) \n",
    "\n",
    "print('targets:')\n",
    "print(yb.shape) # same as the above but offset by 1 (+1) \n",
    "print(yb)\n",
    "\n",
    "print('-----')\n",
    "# all of our 32 training examples / observations\n",
    "for b in range(batch_size): # rows \n",
    "    for t in range(block_size): # examples within rows \n",
    "        context = xb[b, :t+1]\n",
    "        target = yb[b,t] # imo easier to remember yb[t] is the same as xb[t+1]\n",
    "        print(f\"when input is {context.tolist()} then target is {target}\")\n"
   ]
  }
 ],
 "metadata": {
  "kernelspec": {
   "display_name": "base",
   "language": "python",
   "name": "python3"
  },
  "language_info": {
   "codemirror_mode": {
    "name": "ipython",
    "version": 3
   },
   "file_extension": ".py",
   "mimetype": "text/x-python",
   "name": "python",
   "nbconvert_exporter": "python",
   "pygments_lexer": "ipython3",
   "version": "3.8.5"
  }
 },
 "nbformat": 4,
 "nbformat_minor": 2
}
