{
 "cells": [
  {
   "cell_type": "code",
   "execution_count": 42,
   "metadata": {},
   "outputs": [],
   "source": [
    "import math \n",
    "import numpy as np\n",
    "import matplotlib.pyplot as plt \n",
    "%matplotlib inline"
   ]
  },
  {
   "cell_type": "markdown",
   "metadata": {},
   "source": [
    "Thinking about derivatives"
   ]
  },
  {
   "cell_type": "code",
   "execution_count": 43,
   "metadata": {},
   "outputs": [],
   "source": [
    "def f(x): \n",
    "    return 3*x**2 - 4*x + 5 "
   ]
  },
  {
   "cell_type": "code",
   "execution_count": 44,
   "metadata": {},
   "outputs": [
    {
     "data": {
      "text/plain": [
       "20.0"
      ]
     },
     "execution_count": 44,
     "metadata": {},
     "output_type": "execute_result"
    }
   ],
   "source": [
    "f(3.0)"
   ]
  },
  {
   "cell_type": "code",
   "execution_count": 45,
   "metadata": {},
   "outputs": [],
   "source": [
    "xs = np.arange(-5, 5, 0.25) \n",
    "ys = f(xs) "
   ]
  },
  {
   "cell_type": "code",
   "execution_count": 46,
   "metadata": {},
   "outputs": [
    {
     "data": {
      "text/plain": [
       "[<matplotlib.lines.Line2D at 0x12ade6f70>]"
      ]
     },
     "execution_count": 46,
     "metadata": {},
     "output_type": "execute_result"
    },
    {
     "data": {
      "image/png": "[encoded data removed]",
      "text/plain": [
       "<Figure size 640x480 with 1 Axes>"
      ]
     },
     "metadata": {},
     "output_type": "display_data"
    }
   ],
   "source": [
    "plt.plot(xs, ys)"
   ]
  },
  {
   "cell_type": "code",
   "execution_count": 47,
   "metadata": {},
   "outputs": [
    {
     "data": {
      "text/plain": [
       "14.00300000000243"
      ]
     },
     "execution_count": 47,
     "metadata": {},
     "output_type": "execute_result"
    }
   ],
   "source": [
    "h = 0.001 \n",
    "x = 3.0 \n",
    "(f(x+h) - f(x)) / h "
   ]
  },
  {
   "cell_type": "code",
   "execution_count": 48,
   "metadata": {},
   "outputs": [
    {
     "name": "stdout",
     "output_type": "stream",
     "text": [
      "d1 4.0\n",
      "d2 3.999699999999999\n",
      "slope -3.000000000010772\n"
     ]
    }
   ],
   "source": [
    "h = 0.0001 \n",
    "\n",
    "# inputs \n",
    "a = 2.0 \n",
    "b = -3.0 \n",
    "c = 10.0 \n",
    "\n",
    "d1 = a*b + c \n",
    "a += h \n",
    "d2 = a*b + c \n",
    "\n",
    "print('d1', d1)\n",
    "print('d2', d2)\n",
    "print('slope', (d2-d1)/h)"
   ]
  },
  {
   "cell_type": "markdown",
   "metadata": {},
   "source": [
    "Micrograd"
   ]
  },
  {
   "cell_type": "code",
   "execution_count": null,
   "metadata": {},
   "outputs": [],
   "source": [
    "class Value: \n",
    "    def __init__(self, data, _children=(), _op='', label=''): \n",
    "        self.data = data \n",
    "        self.grad = 0.0  # 0 means no effect. Only for initialization \n",
    "        self._backward = lambda: None \n",
    "        self._prev = set(_children)\n",
    "        self._op = _op \n",
    "        self.label = label\n",
    "\n",
    "    # way to print out nicer looking expression in python \n",
    "    def __repr__(self): \n",
    "        return f\"Value(data={self.data})\"\n",
    "\n",
    "    def __add__(self, other): \n",
    "        out = Value(self.data + other.data, (self, other), '+')\n",
    "\n",
    "        def _backward(): \n",
    "            self.grad += out.grad  # additive because a node could be used multiple times \n",
    "            other.grad += out.grad \n",
    "        out._backward = _backward\n",
    "\n",
    "        return out  \n",
    "    \n",
    "    def __mul__(self, other): \n",
    "        out = Value(self.data * other.data, (self, other), '*')\n",
    "\n",
    "        def _backward(): \n",
    "            self.grad += other.data * out.grad \n",
    "            other.grad += self.data * out.grad \n",
    "        out._backward = _backward \n",
    "\n",
    "        return out \n",
    "    \n",
    "    def tanh(self): \n",
    "        x = self.data \n",
    "        t = (math.exp(2*x) - 1) / (math.exp(2*x) + 1)\n",
    "        out = Value(t, (self,), 'tanh')\n",
    "\n",
    "        def _backward(): \n",
    "            self.grad += (1 - t**2) * out.grad \n",
    "        out._backward = _backward \n",
    "        return out \n",
    "    \n",
    "    def backward(self): \n",
    "\n",
    "        topo = []\n",
    "        visited = set() \n",
    "        def build_topo(v): \n",
    "            if v not in visited: \n",
    "                visited.add(v) \n",
    "                for child in v._prev: \n",
    "                    build_topo(child) \n",
    "                topo.append(v) \n",
    "        build_topo(self) \n",
    "\n",
    "        self.grad = 1 \n",
    "\n",
    "        for node in reversed(topo): \n",
    "            node._backward() "
   ]
  },
  {
   "cell_type": "code",
   "execution_count": 74,
   "metadata": {},
   "outputs": [],
   "source": [
    "from graphviz import Digraph\n",
    "\n",
    "def trace(root): \n",
    "    # build a set of all nodes and edges in a graph\n",
    "    nodes, edges = set(), set() \n",
    "    def build(v): \n",
    "        if v not in nodes: \n",
    "            nodes.add(v) \n",
    "            for child in v._prev: \n",
    "                edges.add((child, v))\n",
    "                build(child) \n",
    "    build(root) \n",
    "    return nodes, edges \n",
    "\n",
    "def draw_dot(root): \n",
    "    dot = Digraph(format='svg', graph_attr={'rankdir': 'LR'}) # left to right \n",
    "\n",
    "    nodes, edges = trace(root) \n",
    "    for n in nodes: \n",
    "        uid = str(id(n))\n",
    "        # for any value in the graph, create a rectangular node for it \n",
    "        dot.node(name=uid, label= \"{ %s | data %.4f | grad %.4f}\" % (n.label, n.data, n.grad), shape='record')\n",
    "        if n._op: \n",
    "            # if this value is a result of some operation, create an op node for it \n",
    "            dot.node(name=uid + n._op, label = n._op)\n",
    "            # and connect this node to it \n",
    "            dot.edge(uid + n._op, uid)\n",
    "        \n",
    "    for n1, n2 in edges: \n",
    "        # connect n1 to the op node of n2 \n",
    "        dot.edge(str(id(n1)), str(id(n2)) + n2._op)\n",
    "\n",
    "    return dot "
   ]
  },
  {
   "cell_type": "code",
   "execution_count": 71,
   "metadata": {},
   "outputs": [],
   "source": [
    "# inputs x1, x2 \n",
    "x1 = Value(2.0, label='x1')\n",
    "x2 = Value(0.0, label='x2')\n",
    "# weights w1, w2\n",
    "w1 = Value(-3.0, label='w1')\n",
    "w2 = Value(1.0, label='w2')\n",
    "# bias of the neuron \n",
    "b = Value(6.88137, label='b')\n",
    "# put it together \n",
    "x1w1 = x1*w1; x1w1.label = 'x1w1'\n",
    "x2w2 = x2*w2; x2w2.label = 'x2w2'\n",
    "x1w1x2w2 = x1w1 + x2w2; x1w1x2w2.label = 'x1w1x2w2'\n",
    "n = x1w1x2w2 + b ; n.label = 'n'\n",
    "o = n.tanh(); o.label = 'o'"
   ]
  },
  {
   "cell_type": "code",
   "execution_count": 72,
   "metadata": {},
   "outputs": [],
   "source": [
    "o.backward() "
   ]
  },
  {
   "cell_type": "code",
   "execution_count": 73,
   "metadata": {},
   "outputs": [
    {
     "data": {
      "image/svg+xml": [
       "<?xml version=\"1.0\" encoding=\"UTF-8\" standalone=\"no\"?>\n",
       "<!DOCTYPE svg PUBLIC \"-//W3C//DTD SVG 1.1//EN\"\n",
       " \"http://www.w3.org/Graphics/SVG/1.1/DTD/svg11.dtd\">\n",
       "<!-- Generated by graphviz version 12.2.1 (20241206.2353)\n",
       " -->\n",
       "<!-- Pages: 1 -->\n",
       "<svg width=\"1531pt\" height=\"210pt\"\n",
       " viewBox=\"0.00 0.00 1530.50 210.00\" xmlns=\"http://www.w3.org/2000/svg\" xmlns:xlink=\"http://www.w3.org/1999/xlink\">\n",
       "<g id=\"graph0\" class=\"graph\" transform=\"scale(1 1) rotate(0) translate(4 206)\">\n",
       "<polygon fill=\"white\" stroke=\"none\" points=\"-4,4 -4,-206 1526.5,-206 1526.5,4 -4,4\"/>\n",
       "<!-- 5007530016 -->\n",
       "<g id=\"node1\" class=\"node\">\n",
       "<title>5007530016</title>\n",
       "<polygon fill=\"none\" stroke=\"black\" points=\"2.25,-165.5 2.25,-201.5 195.75,-201.5 195.75,-165.5 2.25,-165.5\"/>\n",
       "<text text-anchor=\"middle\" x=\"18.5\" y=\"-178.7\" font-family=\"Times,serif\" font-size=\"14.00\">w2</text>\n",
       "<polyline fill=\"none\" stroke=\"black\" points=\"34.75,-166 34.75,-201.5\"/>\n",
       "<text text-anchor=\"middle\" x=\"74.62\" y=\"-178.7\" font-family=\"Times,serif\" font-size=\"14.00\">data 1.0000</text>\n",
       "<polyline fill=\"none\" stroke=\"black\" points=\"114.5,-166 114.5,-201.5\"/>\n",
       "<text text-anchor=\"middle\" x=\"155.12\" y=\"-178.7\" font-family=\"Times,serif\" font-size=\"14.00\">grad 0.0000</text>\n",
       "</g>\n",
       "<!-- 5016445664* -->\n",
       "<g id=\"node7\" class=\"node\">\n",
       "<title>5016445664*</title>\n",
       "<ellipse fill=\"none\" stroke=\"black\" cx=\"261\" cy=\"-128.5\" rx=\"27\" ry=\"18\"/>\n",
       "<text text-anchor=\"middle\" x=\"261\" y=\"-123.45\" font-family=\"Times,serif\" font-size=\"14.00\">*</text>\n",
       "</g>\n",
       "<!-- 5007530016&#45;&gt;5016445664* -->\n",
       "<g id=\"edge9\" class=\"edge\">\n",
       "<title>5007530016&#45;&gt;5016445664*</title>\n",
       "<path fill=\"none\" stroke=\"black\" d=\"M172.12,-165.01C180.9,-162.35 189.7,-159.5 198,-156.5 208.09,-152.86 218.82,-148.27 228.47,-143.88\"/>\n",
       "<polygon fill=\"black\" stroke=\"black\" points=\"229.86,-147.09 237.45,-139.69 226.9,-140.75 229.86,-147.09\"/>\n",
       "</g>\n",
       "<!-- 5016448112 -->\n",
       "<g id=\"node2\" class=\"node\">\n",
       "<title>5016448112</title>\n",
       "<polygon fill=\"none\" stroke=\"black\" points=\"661.5,-82.5 661.5,-118.5 903,-118.5 903,-82.5 661.5,-82.5\"/>\n",
       "<text text-anchor=\"middle\" x=\"699.5\" y=\"-95.7\" font-family=\"Times,serif\" font-size=\"14.00\">x1w1x2w2</text>\n",
       "<polyline fill=\"none\" stroke=\"black\" points=\"737.5,-83 737.5,-118.5\"/>\n",
       "<text text-anchor=\"middle\" x=\"779.62\" y=\"-95.7\" font-family=\"Times,serif\" font-size=\"14.00\">data &#45;6.0000</text>\n",
       "<polyline fill=\"none\" stroke=\"black\" points=\"821.75,-83 821.75,-118.5\"/>\n",
       "<text text-anchor=\"middle\" x=\"862.38\" y=\"-95.7\" font-family=\"Times,serif\" font-size=\"14.00\">grad 0.5000</text>\n",
       "</g>\n",
       "<!-- 5016446336+ -->\n",
       "<g id=\"node13\" class=\"node\">\n",
       "<title>5016446336+</title>\n",
       "<ellipse fill=\"none\" stroke=\"black\" cx=\"966\" cy=\"-72.5\" rx=\"27\" ry=\"18\"/>\n",
       "<text text-anchor=\"middle\" x=\"966\" y=\"-67.45\" font-family=\"Times,serif\" font-size=\"14.00\">+</text>\n",
       "</g>\n",
       "<!-- 5016448112&#45;&gt;5016446336+ -->\n",
       "<g id=\"edge6\" class=\"edge\">\n",
       "<title>5016448112&#45;&gt;5016446336+</title>\n",
       "<path fill=\"none\" stroke=\"black\" d=\"M903.21,-82.02C911.99,-80.67 920.37,-79.38 927.96,-78.21\"/>\n",
       "<polygon fill=\"black\" stroke=\"black\" points=\"928.35,-81.69 937.7,-76.71 927.28,-74.77 928.35,-81.69\"/>\n",
       "</g>\n",
       "<!-- 5016448112+ -->\n",
       "<g id=\"node3\" class=\"node\">\n",
       "<title>5016448112+</title>\n",
       "<ellipse fill=\"none\" stroke=\"black\" cx=\"598.5\" cy=\"-100.5\" rx=\"27\" ry=\"18\"/>\n",
       "<text text-anchor=\"middle\" x=\"598.5\" y=\"-95.45\" font-family=\"Times,serif\" font-size=\"14.00\">+</text>\n",
       "</g>\n",
       "<!-- 5016448112+&#45;&gt;5016448112 -->\n",
       "<g id=\"edge1\" class=\"edge\">\n",
       "<title>5016448112+&#45;&gt;5016448112</title>\n",
       "<path fill=\"none\" stroke=\"black\" d=\"M625.93,-100.5C632.99,-100.5 641.12,-100.5 649.88,-100.5\"/>\n",
       "<polygon fill=\"black\" stroke=\"black\" points=\"649.77,-104 659.77,-100.5 649.77,-97 649.77,-104\"/>\n",
       "</g>\n",
       "<!-- 5016151664 -->\n",
       "<g id=\"node4\" class=\"node\">\n",
       "<title>5016151664</title>\n",
       "<polygon fill=\"none\" stroke=\"black\" points=\"690.38,-27.5 690.38,-63.5 874.12,-63.5 874.12,-27.5 690.38,-27.5\"/>\n",
       "<text text-anchor=\"middle\" x=\"701.75\" y=\"-40.7\" font-family=\"Times,serif\" font-size=\"14.00\">b</text>\n",
       "<polyline fill=\"none\" stroke=\"black\" points=\"713.12,-28 713.12,-63.5\"/>\n",
       "<text text-anchor=\"middle\" x=\"753\" y=\"-40.7\" font-family=\"Times,serif\" font-size=\"14.00\">data 6.8814</text>\n",
       "<polyline fill=\"none\" stroke=\"black\" points=\"792.88,-28 792.88,-63.5\"/>\n",
       "<text text-anchor=\"middle\" x=\"833.5\" y=\"-40.7\" font-family=\"Times,serif\" font-size=\"14.00\">grad 0.5000</text>\n",
       "</g>\n",
       "<!-- 5016151664&#45;&gt;5016446336+ -->\n",
       "<g id=\"edge12\" class=\"edge\">\n",
       "<title>5016151664&#45;&gt;5016446336+</title>\n",
       "<path fill=\"none\" stroke=\"black\" d=\"M874.39,-59.04C893.45,-61.87 912.49,-64.7 928.16,-67.03\"/>\n",
       "<polygon fill=\"black\" stroke=\"black\" points=\"927.53,-70.47 937.94,-68.48 928.56,-63.55 927.53,-70.47\"/>\n",
       "</g>\n",
       "<!-- 5016445616 -->\n",
       "<g id=\"node5\" class=\"node\">\n",
       "<title>5016445616</title>\n",
       "<polygon fill=\"none\" stroke=\"black\" points=\"1.5,-55.5 1.5,-91.5 196.5,-91.5 196.5,-55.5 1.5,-55.5\"/>\n",
       "<text text-anchor=\"middle\" x=\"16.25\" y=\"-68.7\" font-family=\"Times,serif\" font-size=\"14.00\">x1</text>\n",
       "<polyline fill=\"none\" stroke=\"black\" points=\"31,-56 31,-91.5\"/>\n",
       "<text text-anchor=\"middle\" x=\"70.88\" y=\"-68.7\" font-family=\"Times,serif\" font-size=\"14.00\">data 2.0000</text>\n",
       "<polyline fill=\"none\" stroke=\"black\" points=\"110.75,-56 110.75,-91.5\"/>\n",
       "<text text-anchor=\"middle\" x=\"153.62\" y=\"-68.7\" font-family=\"Times,serif\" font-size=\"14.00\">grad &#45;1.5000</text>\n",
       "</g>\n",
       "<!-- 5016447728* -->\n",
       "<g id=\"node9\" class=\"node\">\n",
       "<title>5016447728*</title>\n",
       "<ellipse fill=\"none\" stroke=\"black\" cx=\"261\" cy=\"-73.5\" rx=\"27\" ry=\"18\"/>\n",
       "<text text-anchor=\"middle\" x=\"261\" y=\"-68.45\" font-family=\"Times,serif\" font-size=\"14.00\">*</text>\n",
       "</g>\n",
       "<!-- 5016445616&#45;&gt;5016447728* -->\n",
       "<g id=\"edge14\" class=\"edge\">\n",
       "<title>5016445616&#45;&gt;5016447728*</title>\n",
       "<path fill=\"none\" stroke=\"black\" d=\"M196.76,-73.5C205.77,-73.5 214.47,-73.5 222.4,-73.5\"/>\n",
       "<polygon fill=\"black\" stroke=\"black\" points=\"222.25,-77 232.25,-73.5 222.25,-70 222.25,-77\"/>\n",
       "</g>\n",
       "<!-- 5016445664 -->\n",
       "<g id=\"node6\" class=\"node\">\n",
       "<title>5016445664</title>\n",
       "<polygon fill=\"none\" stroke=\"black\" points=\"326.25,-110.5 326.25,-146.5 533.25,-146.5 533.25,-110.5 326.25,-110.5\"/>\n",
       "<text text-anchor=\"middle\" x=\"349.25\" y=\"-123.7\" font-family=\"Times,serif\" font-size=\"14.00\">x2w2</text>\n",
       "<polyline fill=\"none\" stroke=\"black\" points=\"372.25,-111 372.25,-146.5\"/>\n",
       "<text text-anchor=\"middle\" x=\"412.12\" y=\"-123.7\" font-family=\"Times,serif\" font-size=\"14.00\">data 0.0000</text>\n",
       "<polyline fill=\"none\" stroke=\"black\" points=\"452,-111 452,-146.5\"/>\n",
       "<text text-anchor=\"middle\" x=\"492.62\" y=\"-123.7\" font-family=\"Times,serif\" font-size=\"14.00\">grad 0.5000</text>\n",
       "</g>\n",
       "<!-- 5016445664&#45;&gt;5016448112+ -->\n",
       "<g id=\"edge7\" class=\"edge\">\n",
       "<title>5016445664&#45;&gt;5016448112+</title>\n",
       "<path fill=\"none\" stroke=\"black\" d=\"M533.51,-111.25C543.16,-109.62 552.45,-108.06 560.82,-106.66\"/>\n",
       "<polygon fill=\"black\" stroke=\"black\" points=\"561.2,-110.15 570.48,-105.04 560.04,-103.24 561.2,-110.15\"/>\n",
       "</g>\n",
       "<!-- 5016445664*&#45;&gt;5016445664 -->\n",
       "<g id=\"edge2\" class=\"edge\">\n",
       "<title>5016445664*&#45;&gt;5016445664</title>\n",
       "<path fill=\"none\" stroke=\"black\" d=\"M288.42,-128.5C296.08,-128.5 304.96,-128.5 314.47,-128.5\"/>\n",
       "<polygon fill=\"black\" stroke=\"black\" points=\"314.37,-132 324.37,-128.5 314.37,-125 314.37,-132\"/>\n",
       "</g>\n",
       "<!-- 5016447728 -->\n",
       "<g id=\"node8\" class=\"node\">\n",
       "<title>5016447728</title>\n",
       "<polygon fill=\"none\" stroke=\"black\" points=\"324,-55.5 324,-91.5 535.5,-91.5 535.5,-55.5 324,-55.5\"/>\n",
       "<text text-anchor=\"middle\" x=\"347\" y=\"-68.7\" font-family=\"Times,serif\" font-size=\"14.00\">x1w1</text>\n",
       "<polyline fill=\"none\" stroke=\"black\" points=\"370,-56 370,-91.5\"/>\n",
       "<text text-anchor=\"middle\" x=\"412.12\" y=\"-68.7\" font-family=\"Times,serif\" font-size=\"14.00\">data &#45;6.0000</text>\n",
       "<polyline fill=\"none\" stroke=\"black\" points=\"454.25,-56 454.25,-91.5\"/>\n",
       "<text text-anchor=\"middle\" x=\"494.88\" y=\"-68.7\" font-family=\"Times,serif\" font-size=\"14.00\">grad 0.5000</text>\n",
       "</g>\n",
       "<!-- 5016447728&#45;&gt;5016448112+ -->\n",
       "<g id=\"edge8\" class=\"edge\">\n",
       "<title>5016447728&#45;&gt;5016448112+</title>\n",
       "<path fill=\"none\" stroke=\"black\" d=\"M535.88,-90.52C544.59,-91.93 552.96,-93.29 560.56,-94.52\"/>\n",
       "<polygon fill=\"black\" stroke=\"black\" points=\"559.91,-97.96 570.34,-96.1 561.03,-91.05 559.91,-97.96\"/>\n",
       "</g>\n",
       "<!-- 5016447728*&#45;&gt;5016447728 -->\n",
       "<g id=\"edge3\" class=\"edge\">\n",
       "<title>5016447728*&#45;&gt;5016447728</title>\n",
       "<path fill=\"none\" stroke=\"black\" d=\"M288.42,-73.5C295.52,-73.5 303.68,-73.5 312.42,-73.5\"/>\n",
       "<polygon fill=\"black\" stroke=\"black\" points=\"312.24,-77 322.24,-73.5 312.24,-70 312.24,-77\"/>\n",
       "</g>\n",
       "<!-- 5016448256 -->\n",
       "<g id=\"node10\" class=\"node\">\n",
       "<title>5016448256</title>\n",
       "<polygon fill=\"none\" stroke=\"black\" points=\"1338.75,-54.5 1338.75,-90.5 1522.5,-90.5 1522.5,-54.5 1338.75,-54.5\"/>\n",
       "<text text-anchor=\"middle\" x=\"1350.12\" y=\"-67.7\" font-family=\"Times,serif\" font-size=\"14.00\">o</text>\n",
       "<polyline fill=\"none\" stroke=\"black\" points=\"1361.5,-55 1361.5,-90.5\"/>\n",
       "<text text-anchor=\"middle\" x=\"1401.38\" y=\"-67.7\" font-family=\"Times,serif\" font-size=\"14.00\">data 0.7071</text>\n",
       "<polyline fill=\"none\" stroke=\"black\" points=\"1441.25,-55 1441.25,-90.5\"/>\n",
       "<text text-anchor=\"middle\" x=\"1481.88\" y=\"-67.7\" font-family=\"Times,serif\" font-size=\"14.00\">grad 1.0000</text>\n",
       "</g>\n",
       "<!-- 5016448256tanh -->\n",
       "<g id=\"node11\" class=\"node\">\n",
       "<title>5016448256tanh</title>\n",
       "<ellipse fill=\"none\" stroke=\"black\" cx=\"1275.75\" cy=\"-72.5\" rx=\"27\" ry=\"18\"/>\n",
       "<text text-anchor=\"middle\" x=\"1275.75\" y=\"-67.45\" font-family=\"Times,serif\" font-size=\"14.00\">tanh</text>\n",
       "</g>\n",
       "<!-- 5016448256tanh&#45;&gt;5016448256 -->\n",
       "<g id=\"edge4\" class=\"edge\">\n",
       "<title>5016448256tanh&#45;&gt;5016448256</title>\n",
       "<path fill=\"none\" stroke=\"black\" d=\"M1303.03,-72.5C1310.17,-72.5 1318.36,-72.5 1327.07,-72.5\"/>\n",
       "<polygon fill=\"black\" stroke=\"black\" points=\"1326.81,-76 1336.81,-72.5 1326.81,-69 1326.81,-76\"/>\n",
       "</g>\n",
       "<!-- 5016446336 -->\n",
       "<g id=\"node12\" class=\"node\">\n",
       "<title>5016446336</title>\n",
       "<polygon fill=\"none\" stroke=\"black\" points=\"1029,-54.5 1029,-90.5 1212.75,-90.5 1212.75,-54.5 1029,-54.5\"/>\n",
       "<text text-anchor=\"middle\" x=\"1040.38\" y=\"-67.7\" font-family=\"Times,serif\" font-size=\"14.00\">n</text>\n",
       "<polyline fill=\"none\" stroke=\"black\" points=\"1051.75,-55 1051.75,-90.5\"/>\n",
       "<text text-anchor=\"middle\" x=\"1091.62\" y=\"-67.7\" font-family=\"Times,serif\" font-size=\"14.00\">data 0.8814</text>\n",
       "<polyline fill=\"none\" stroke=\"black\" points=\"1131.5,-55 1131.5,-90.5\"/>\n",
       "<text text-anchor=\"middle\" x=\"1172.12\" y=\"-67.7\" font-family=\"Times,serif\" font-size=\"14.00\">grad 0.5000</text>\n",
       "</g>\n",
       "<!-- 5016446336&#45;&gt;5016448256tanh -->\n",
       "<g id=\"edge10\" class=\"edge\">\n",
       "<title>5016446336&#45;&gt;5016448256tanh</title>\n",
       "<path fill=\"none\" stroke=\"black\" d=\"M1213.01,-72.5C1221.39,-72.5 1229.52,-72.5 1236.98,-72.5\"/>\n",
       "<polygon fill=\"black\" stroke=\"black\" points=\"1236.95,-76 1246.95,-72.5 1236.95,-69 1236.95,-76\"/>\n",
       "</g>\n",
       "<!-- 5016446336+&#45;&gt;5016446336 -->\n",
       "<g id=\"edge5\" class=\"edge\">\n",
       "<title>5016446336+&#45;&gt;5016446336</title>\n",
       "<path fill=\"none\" stroke=\"black\" d=\"M993.28,-72.5C1000.42,-72.5 1008.61,-72.5 1017.32,-72.5\"/>\n",
       "<polygon fill=\"black\" stroke=\"black\" points=\"1017.06,-76 1027.06,-72.5 1017.06,-69 1017.06,-76\"/>\n",
       "</g>\n",
       "<!-- 4642385296 -->\n",
       "<g id=\"node14\" class=\"node\">\n",
       "<title>4642385296</title>\n",
       "<polygon fill=\"none\" stroke=\"black\" points=\"0,-0.5 0,-36.5 198,-36.5 198,-0.5 0,-0.5\"/>\n",
       "<text text-anchor=\"middle\" x=\"16.25\" y=\"-13.7\" font-family=\"Times,serif\" font-size=\"14.00\">w1</text>\n",
       "<polyline fill=\"none\" stroke=\"black\" points=\"32.5,-1 32.5,-36.5\"/>\n",
       "<text text-anchor=\"middle\" x=\"74.62\" y=\"-13.7\" font-family=\"Times,serif\" font-size=\"14.00\">data &#45;3.0000</text>\n",
       "<polyline fill=\"none\" stroke=\"black\" points=\"116.75,-1 116.75,-36.5\"/>\n",
       "<text text-anchor=\"middle\" x=\"157.38\" y=\"-13.7\" font-family=\"Times,serif\" font-size=\"14.00\">grad 1.0000</text>\n",
       "</g>\n",
       "<!-- 4642385296&#45;&gt;5016447728* -->\n",
       "<g id=\"edge11\" class=\"edge\">\n",
       "<title>4642385296&#45;&gt;5016447728*</title>\n",
       "<path fill=\"none\" stroke=\"black\" d=\"M172.12,-36.99C180.9,-39.65 189.7,-42.5 198,-45.5 208.09,-49.14 218.82,-53.73 228.47,-58.12\"/>\n",
       "<polygon fill=\"black\" stroke=\"black\" points=\"226.9,-61.25 237.45,-62.31 229.86,-54.91 226.9,-61.25\"/>\n",
       "</g>\n",
       "<!-- 5007531984 -->\n",
       "<g id=\"node15\" class=\"node\">\n",
       "<title>5007531984</title>\n",
       "<polygon fill=\"none\" stroke=\"black\" points=\"3.75,-110.5 3.75,-146.5 194.25,-146.5 194.25,-110.5 3.75,-110.5\"/>\n",
       "<text text-anchor=\"middle\" x=\"18.5\" y=\"-123.7\" font-family=\"Times,serif\" font-size=\"14.00\">x2</text>\n",
       "<polyline fill=\"none\" stroke=\"black\" points=\"33.25,-111 33.25,-146.5\"/>\n",
       "<text text-anchor=\"middle\" x=\"73.12\" y=\"-123.7\" font-family=\"Times,serif\" font-size=\"14.00\">data 0.0000</text>\n",
       "<polyline fill=\"none\" stroke=\"black\" points=\"113,-111 113,-146.5\"/>\n",
       "<text text-anchor=\"middle\" x=\"153.62\" y=\"-123.7\" font-family=\"Times,serif\" font-size=\"14.00\">grad 0.5000</text>\n",
       "</g>\n",
       "<!-- 5007531984&#45;&gt;5016445664* -->\n",
       "<g id=\"edge13\" class=\"edge\">\n",
       "<title>5007531984&#45;&gt;5016445664*</title>\n",
       "<path fill=\"none\" stroke=\"black\" d=\"M194.46,-128.5C204.21,-128.5 213.66,-128.5 222.21,-128.5\"/>\n",
       "<polygon fill=\"black\" stroke=\"black\" points=\"222.12,-132 232.12,-128.5 222.12,-125 222.12,-132\"/>\n",
       "</g>\n",
       "</g>\n",
       "</svg>\n"
      ],
      "text/plain": [
       "<graphviz.graphs.Digraph at 0x12b00a5e0>"
      ]
     },
     "execution_count": 73,
     "metadata": {},
     "output_type": "execute_result"
    }
   ],
   "source": [
    "draw_dot(o) "
   ]
  }
 ],
 "metadata": {
  "kernelspec": {
   "display_name": "code-WX5DSXM1",
   "language": "python",
   "name": "python3"
  },
  "language_info": {
   "codemirror_mode": {
    "name": "ipython",
    "version": 3
   },
   "file_extension": ".py",
   "mimetype": "text/x-python",
   "name": "python",
   "nbconvert_exporter": "python",
   "pygments_lexer": "ipython3",
   "version": "3.9.21"
  }
 },
 "nbformat": 4,
 "nbformat_minor": 2
}
